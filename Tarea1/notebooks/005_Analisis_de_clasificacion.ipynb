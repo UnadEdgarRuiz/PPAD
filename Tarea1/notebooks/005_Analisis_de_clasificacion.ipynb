{
 "cells": [
  {
   "cell_type": "markdown",
   "metadata": {},
   "source": [
    "# Análisis de Clasificación"
   ]
  },
  {
   "cell_type": "markdown",
   "metadata": {},
   "source": [
    "---------------\n",
    "## Tabla de contenido\n",
    "---------------\n",
    "\n",
    "* Definición\n",
    "* Regresión Logística\n",
    "* Uso de libreria Scikit learn\n",
    "* Métricas\n",
    "* Métodos de clasificación"
   ]
  },
  {
   "cell_type": "markdown",
   "metadata": {},
   "source": [
    "---------------\n",
    "## Definición\n",
    "---------------\n"
   ]
  },
  {
   "cell_type": "markdown",
   "metadata": {},
   "source": [
    "\n",
    "Un problema de clasificación es un tipo de problema en el que el objetivo es asignar una categoría o etiqueta a una entrada dada, basándose en sus características o atributos observados. La tarea principal es clasificar los elementos de un conjunto en clases predefinidas. Existen dos tipos principales de problemas de clasificación:\n"
   ]
  },
  {
   "cell_type": "markdown",
   "metadata": {},
   "source": [
    "\n",
    "* Clasificación binaria:\n",
    "\n",
    "    En este tipo de clasificación, el objetivo es asignar cada instancia a una de las dos clases posibles. Por ejemplo, determinar si un correo electrónico es spam o no spam, predecir si un paciente tiene una enfermedad específica o no, etc.\n",
    "\n",
    "* Clasificación multiclase o multinomial:\n",
    "\n",
    "    En este tipo de clasificación, hay más de dos clases posibles, y el objetivo es asignar cada instancia a una de las múltiples clases. Ejemplos incluyen reconocimiento de dígitos escritos a mano (0-9), clasificación de especies de animales, reconocimiento de idiomas, etc.\n"
   ]
  },
  {
   "cell_type": "markdown",
   "metadata": {},
   "source": [
    "---------------\n",
    "## Regresión Logística\n",
    "---------------\n"
   ]
  },
  {
   "cell_type": "markdown",
   "metadata": {},
   "source": [
    "La regresión logística es un modelo estadístico utilizado para predecir la probabilidad de que una variable dependiente binaria (con dos categorías) tenga un valor de 1 o 0 en función de una o más variables independientes. "
   ]
  },
  {
   "cell_type": "markdown",
   "metadata": {},
   "source": [
    "### Definición del problema\n",
    "* Identificar la variable dependiente (o respuesta) y las variables independientes (o predictores) en tu conjunto de datos.\n",
    "* La variable dependiente debe ser binaria, es decir, tener dos categorías (por ejemplo, sí/no, éxito/fracaso, 1/0)."
   ]
  },
  {
   "cell_type": "markdown",
   "metadata": {},
   "source": [
    "### Modelo\n",
    "El modelo de regresión logística utiliza la función logit para modelar la relación entre las variables independientes y la probabilidad de que la variable dependiente sea 1 (presencia de la caracteristicas objetivo del problema de investigación).\n",
    "\n",
    "\n",
    "La función logit transforma la probabilidad $p$ en el rango de $({-\\infty,\\infty})$ y se define como \n",
    "\n",
    "$logit({p})=log({\\frac{p}{1-p}})$"
   ]
  },
  {
   "cell_type": "markdown",
   "metadata": {},
   "source": [
    "### Estimación de parámetros\n",
    "Se utilizan métodos como el máximo verosimilitud (likelihood) para estimar los parámetros del modelo, que son los coeficientes asociados a cada variable independiente."
   ]
  },
  {
   "cell_type": "markdown",
   "metadata": {},
   "source": [
    "#### máxima verosimilitud (likelihood)\n",
    "\n",
    "Su objetivo del método de máxima verosimilitud es encontrar los valores de los parámetros que maximizan la función de verosimilitud, que mide la probabilidad de observar los datos dados ciertos valores específicos de los parámetros siguiendo unos los siguientes pasos:\n",
    "\n",
    "1. Definición del modelo \n",
    "\n",
    "Comienza con la definición de un modelo estadístico que describe la distribución de los datos. Este modelo tiene parámetros que deben ser estimados.\n",
    "Función de verosimilitud:\n",
    "\n",
    "2. La función de verosimilitud \n",
    "\n",
    "La función de verosimilitud $(L)$ describe la probabilidad de observar los datos dados ciertos valores de los parámetros. Se denota comúnmente como $L(\\theta|\\text{datos})$, donde $\\theta$ representa el conjunto de parámetros del modelo.\n",
    "\n",
    "3. Logaritmo de la función de verosimilitud (log-verosimilitud):\n",
    "\n",
    "Para facilitar el cálculo, se suele trabajar con el logaritmo natural de la función de verosimilitud. Esto no afecta la maximización, ya que el logaritmo es una función monótona creciente. La función de log-verosimilitud se denota como  $l(\\theta|\\text{datos}) = log(L(\\theta|\\text{datos}) )$\n",
    "\n",
    "4. Maximización de la log-verosimilitud:\n",
    "\n",
    "El objetivo es encontrar los valores de los parámetros que maximizan la función de log-verosimilitud. Esto se puede hacer utilizando métodos de optimización, como el descenso de gradiente, o resolviendo las ecuaciones derivadas de la función de log-verosimilitud igualadas a cero.\n",
    "\n",
    "5. Estimación de los parámetros:\n",
    "\n",
    "Los valores que maximizan la función de log-verosimilitud se utilizan como estimaciones de los parámetros del modelo. Estas estimaciones son llamadas estimadores de máxima verosimilitud (MLE).\n",
    "\n",
    "4. Propiedades asintóticas:\n",
    "\n",
    "En condiciones asintóticas (con un número grande de observaciones), los estimadores de máxima verosimilitud exhiben propiedades deseables, como ser insesgados y eficientes.\n",
    "\n",
    "NOTA : \n",
    "* El **descenso de gradiente** aborda este problema ajustando iterativamente los parámetros en la dirección opuesta al gradiente de la función de log-verosimilitud. El gradiente indica la dirección de mayor aumento de la función, por lo que moverse en dirección opuesta nos acerca al máximo de la función.\n",
    "* La **tasa de aprendizaje** controla cuánto se ajustan los parámetros en cada iteración. Se debe ajustar cuidadosamente para garantizar que el algoritmo converja de manera eficiente sin excederse.Un valor de tasa de aprendizaje más grande permite pasos más grandes, pero puede hacer que el algoritmo diverja o falle en converger. Un valor más pequeño permite pasos más pequeños, pero puede hacer que el proceso de convergencia sea lento."
   ]
  },
  {
   "cell_type": "markdown",
   "metadata": {},
   "source": [
    "### Función de decisión\n",
    "\n",
    "La función de decisión se calcula como la combinación lineal de las variables independientes ponderadas por los coeficientes estimados. Para un caso binario, se puede expresar como \n",
    "\n",
    "$logit({p})=\\beta_0+\\beta_1X_1+\\beta_2X_2+...+\\beta_nX_n$"
   ]
  },
  {
   "cell_type": "markdown",
   "metadata": {},
   "source": [
    "### Transformación logística inversa\n",
    "Para obtener la probabilidad de que la variable dependiente sea 1, aplicamos la transformación logística inversa, que es la función sigmoide\n",
    "\n",
    "$p = \\frac{1}{1+e^{-logit(p)}}$"
   ]
  },
  {
   "cell_type": "markdown",
   "metadata": {},
   "source": [
    "### Umbral de decisión\n",
    "\n",
    "Se establece un umbral de decisión (generalmente 0.5 pero existen métodos sofisticados para encontrar el mejor umbral) para clasificar las observaciones en las dos categorías."
   ]
  },
  {
   "cell_type": "code",
   "execution_count": null,
   "metadata": {},
   "outputs": [],
   "source": [
    "# Importar las bibliotecas necesarias\n",
    "import numpy as np\n",
    "import pandas as pd\n",
    "\n",
    "import matplotlib.pyplot as plt\n",
    "import seaborn as sns"
   ]
  },
  {
   "cell_type": "code",
   "execution_count": 3,
   "metadata": {},
   "outputs": [],
   "source": [
    "def plot_func_sigmoidal(umbral = 0.5):\n",
    "    # Función sigmoidal\n",
    "    def sigmoid(x):\n",
    "        return 1 / (1 + np.exp(-x))\n",
    "\n",
    "    # Generar datos para la gráfica\n",
    "    x_values = np.linspace(-7, 7, 100)\n",
    "    y_values = sigmoid(x_values)\n",
    "\n",
    "    # Graficar la función sigmoidal\n",
    "    plt.plot(x_values, y_values, label='Sigmoidal')\n",
    "    plt.axhline(y=umbral, color='r', linestyle='--', label='Umbral de decisión ({})'.format(umbral))\n",
    "    # plt.axvline(x=0, color='g', linestyle='--', label='Valor de umbral (0)')\n",
    "\n",
    "    # Etiquetas y leyenda\n",
    "    plt.xlabel('Eje X')\n",
    "    plt.ylabel('Función Sigmoidal')\n",
    "    plt.title('Función Sigmoidal')\n",
    "    plt.legend()\n",
    "\n",
    "    # grilla\n",
    "    plt.grid()\n",
    "\n",
    "    # Mostrar la gráfica\n",
    "    plt.show()\n"
   ]
  },
  {
   "cell_type": "code",
   "execution_count": 6,
   "metadata": {},
   "outputs": [
    {
     "data": {
      "image/png": "[encoded data removed]",
      "text/plain": [
       "<Figure size 640x480 with 1 Axes>"
      ]
     },
     "metadata": {},
     "output_type": "display_data"
    }
   ],
   "source": [
    "plot_func_sigmoidal(0.5)"
   ]
  },
  {
   "cell_type": "markdown",
   "metadata": {},
   "source": [
    "### Ejemplo"
   ]
  },
  {
   "cell_type": "code",
   "execution_count": 7,
   "metadata": {},
   "outputs": [],
   "source": [
    "# Datos de ejemplo\n",
    "X = np.array([[1, 2], [1, 3], [1, 4], [1, 5], [1, 6]])\n",
    "y = np.array([0, 0, 1, 1, 1])"
   ]
  },
  {
   "cell_type": "code",
   "execution_count": 8,
   "metadata": {},
   "outputs": [],
   "source": [
    "# Función logística\n",
    "def sigmoid(z):\n",
    "    p = 1 / (1 + np.exp(-z))\n",
    "    return p\n",
    "\n",
    "# Función de log-verosimilitud\n",
    "def log_likelihood(X, y, theta):\n",
    "    m = len(y)\n",
    "    z = np.dot(X, theta)\n",
    "    h = sigmoid(z)\n",
    "    likelihood = y * np.log(h) + (1 - y) * np.log(1 - h)\n",
    "    return np.sum(likelihood) / m\n",
    "\n",
    "# Gradiente de la log-verosimilitud\n",
    "def gradient(X, y, theta):\n",
    "    m = len(y)\n",
    "    z = np.dot(X, theta)\n",
    "    h = sigmoid(z)\n",
    "    grad = np.dot(X.T, (h - y)) / m\n",
    "    return grad\n",
    "\n",
    "# Descenso de gradiente para la maximización de la log-verosimilitud\n",
    "def gradient_descent(X, y, theta, learning_rate, epochs):\n",
    "    for _ in range(epochs):\n",
    "        grad = gradient(X, y, theta)\n",
    "        theta -= learning_rate * grad\n",
    "    return theta"
   ]
  },
  {
   "cell_type": "code",
   "execution_count": 9,
   "metadata": {},
   "outputs": [
    {
     "name": "stdout",
     "output_type": "stream",
     "text": [
      "Parámetros iniciados: [0. 0. 0.]\n"
     ]
    }
   ],
   "source": [
    "# Agregar una columna de unos a X para el término de sesgo\n",
    "X = np.c_[np.ones(X.shape[0]), X]\n",
    "\n",
    "# Inicialización de parámetros\n",
    "theta = np.zeros(X.shape[1])\n",
    "print(\"Parámetros iniciados:\", theta)\n"
   ]
  },
  {
   "cell_type": "code",
   "execution_count": 10,
   "metadata": {},
   "outputs": [
    {
     "name": "stdout",
     "output_type": "stream",
     "text": [
      "Parámetros estimados: [-0.88913281 -0.88913281  0.66569816]\n"
     ]
    }
   ],
   "source": [
    "# Hiperparámetros\n",
    "learning_rate = 0.01\n",
    "epochs = 1000\n",
    "\n",
    "# Estimación de parámetros mediante máxima verosimilitud\n",
    "theta = gradient_descent(X, y, theta, learning_rate, epochs)\n",
    "print(\"Parámetros estimados:\", theta)"
   ]
  },
  {
   "cell_type": "code",
   "execution_count": 11,
   "metadata": {},
   "outputs": [],
   "source": [
    "# Función para hacer predicciones\n",
    "def predict(X, theta, threshold=0.5):\n",
    "    probabilities = sigmoid(np.dot(X, theta))\n",
    "    predictions = (probabilities >= threshold).astype(int)\n",
    "    return predictions\n"
   ]
  },
  {
   "cell_type": "code",
   "execution_count": 12,
   "metadata": {},
   "outputs": [
    {
     "name": "stdout",
     "output_type": "stream",
     "text": [
      "Predicciones para nuevos datos: [1 1 1 0 0]\n"
     ]
    }
   ],
   "source": [
    "\n",
    "# nuevos datos\n",
    "new_data = np.array([[1, 3], [1, 5], [2, 7], [0, 0], [0, 0]])\n",
    "# Agregar una columna de unos a X para el término de sesgo\n",
    "new_data = np.c_[np.ones(new_data.shape[0]), new_data]\n",
    "# con los parametros estimados realizar predicciones\n",
    "predictions = predict(new_data, theta)\n",
    "\n",
    "print(\"Predicciones para nuevos datos:\", predictions)\n"
   ]
  },
  {
   "cell_type": "markdown",
   "metadata": {},
   "source": [
    "---------------\n",
    "## Uso de libreria Scikit learn\n",
    "---------------\n"
   ]
  },
  {
   "cell_type": "code",
   "execution_count": 13,
   "metadata": {},
   "outputs": [],
   "source": [
    "from sklearn.linear_model import LogisticRegression\n",
    "from sklearn.metrics import confusion_matrix, classification_report"
   ]
  },
  {
   "cell_type": "code",
   "execution_count": 14,
   "metadata": {},
   "outputs": [],
   "source": [
    "# Crear un conjunto de datos ficticio\n",
    "np.random.seed(42) # semilla aleatoria\n",
    "\n",
    "data = pd.DataFrame({\n",
    "    'feature1': np.random.normal(0, 1, 1000),\n",
    "    'feature2': np.random.normal(0, 1, 1000),\n",
    "    'target': np.random.choice([0, 1], size=1000)\n",
    "})"
   ]
  },
  {
   "cell_type": "code",
   "execution_count": 15,
   "metadata": {},
   "outputs": [
    {
     "data": {
      "text/html": [
       "<div>\n",
       "<style scoped>\n",
       "    .dataframe tbody tr th:only-of-type {\n",
       "        vertical-align: middle;\n",
       "    }\n",
       "\n",
       "    .dataframe tbody tr th {\n",
       "        vertical-align: top;\n",
       "    }\n",
       "\n",
       "    .dataframe thead th {\n",
       "        text-align: right;\n",
       "    }\n",
       "</style>\n",
       "<table border=\"1\" class=\"dataframe\">\n",
       "  <thead>\n",
       "    <tr style=\"text-align: right;\">\n",
       "      <th></th>\n",
       "      <th>feature1</th>\n",
       "      <th>feature2</th>\n",
       "      <th>target</th>\n",
       "    </tr>\n",
       "  </thead>\n",
       "  <tbody>\n",
       "    <tr>\n",
       "      <th>0</th>\n",
       "      <td>0.496714</td>\n",
       "      <td>1.399355</td>\n",
       "      <td>1</td>\n",
       "    </tr>\n",
       "    <tr>\n",
       "      <th>1</th>\n",
       "      <td>-0.138264</td>\n",
       "      <td>0.924634</td>\n",
       "      <td>0</td>\n",
       "    </tr>\n",
       "    <tr>\n",
       "      <th>2</th>\n",
       "      <td>0.647689</td>\n",
       "      <td>0.059630</td>\n",
       "      <td>1</td>\n",
       "    </tr>\n",
       "    <tr>\n",
       "      <th>3</th>\n",
       "      <td>1.523030</td>\n",
       "      <td>-0.646937</td>\n",
       "      <td>0</td>\n",
       "    </tr>\n",
       "    <tr>\n",
       "      <th>4</th>\n",
       "      <td>-0.234153</td>\n",
       "      <td>0.698223</td>\n",
       "      <td>0</td>\n",
       "    </tr>\n",
       "  </tbody>\n",
       "</table>\n",
       "</div>"
      ],
      "text/plain": [
       "   feature1  feature2  target\n",
       "0  0.496714  1.399355       1\n",
       "1 -0.138264  0.924634       0\n",
       "2  0.647689  0.059630       1\n",
       "3  1.523030 -0.646937       0\n",
       "4 -0.234153  0.698223       0"
      ]
     },
     "execution_count": 15,
     "metadata": {},
     "output_type": "execute_result"
    }
   ],
   "source": [
    "data.head()"
   ]
  },
  {
   "cell_type": "code",
   "execution_count": 16,
   "metadata": {},
   "outputs": [],
   "source": [
    "# Dividir el conjunto de datos en características (X) y variable objetivo (y)\n",
    "X = data[['feature1', 'feature2']]\n",
    "y = data['target']"
   ]
  },
  {
   "cell_type": "code",
   "execution_count": 17,
   "metadata": {},
   "outputs": [],
   "source": [
    "# Crear y entrenar el modelo de regresión logística\n",
    "model = LogisticRegression(\n",
    "    max_iter = 100000, #cantidad de maxima de iteracion\n",
    "    solver = 'liblinear', # opt\n",
    "    random_state=20090630 # semilla aleatoria\n",
    "    )"
   ]
  },
  {
   "cell_type": "code",
   "execution_count": 18,
   "metadata": {},
   "outputs": [
    {
     "data": {
      "text/html": [
       "<style>#sk-container-id-1 {color: black;background-color: white;}#sk-container-id-1 pre{padding: 0;}#sk-container-id-1 div.sk-toggleable {background-color: white;}#sk-container-id-1 label.sk-toggleable__label {cursor: pointer;display: block;width: 100%;margin-bottom: 0;padding: 0.3em;box-sizing: border-box;text-align: center;}#sk-container-id-1 label.sk-toggleable__label-arrow:before {content: \"▸\";float: left;margin-right: 0.25em;color: #696969;}#sk-container-id-1 label.sk-toggleable__label-arrow:hover:before {color: black;}#sk-container-id-1 div.sk-estimator:hover label.sk-toggleable__label-arrow:before {color: black;}#sk-container-id-1 div.sk-toggleable__content {max-height: 0;max-width: 0;overflow: hidden;text-align: left;background-color: #f0f8ff;}#sk-container-id-1 div.sk-toggleable__content pre {margin: 0.2em;color: black;border-radius: 0.25em;background-color: #f0f8ff;}#sk-container-id-1 input.sk-toggleable__control:checked~div.sk-toggleable__content {max-height: 200px;max-width: 100%;overflow: auto;}#sk-container-id-1 input.sk-toggleable__control:checked~label.sk-toggleable__label-arrow:before {content: \"▾\";}#sk-container-id-1 div.sk-estimator input.sk-toggleable__control:checked~label.sk-toggleable__label {background-color: #d4ebff;}#sk-container-id-1 div.sk-label input.sk-toggleable__control:checked~label.sk-toggleable__label {background-color: #d4ebff;}#sk-container-id-1 input.sk-hidden--visually {border: 0;clip: rect(1px 1px 1px 1px);clip: rect(1px, 1px, 1px, 1px);height: 1px;margin: -1px;overflow: hidden;padding: 0;position: absolute;width: 1px;}#sk-container-id-1 div.sk-estimator {font-family: monospace;background-color: #f0f8ff;border: 1px dotted black;border-radius: 0.25em;box-sizing: border-box;margin-bottom: 0.5em;}#sk-container-id-1 div.sk-estimator:hover {background-color: #d4ebff;}#sk-container-id-1 div.sk-parallel-item::after {content: \"\";width: 100%;border-bottom: 1px solid gray;flex-grow: 1;}#sk-container-id-1 div.sk-label:hover label.sk-toggleable__label {background-color: #d4ebff;}#sk-container-id-1 div.sk-serial::before {content: \"\";position: absolute;border-left: 1px solid gray;box-sizing: border-box;top: 0;bottom: 0;left: 50%;z-index: 0;}#sk-container-id-1 div.sk-serial {display: flex;flex-direction: column;align-items: center;background-color: white;padding-right: 0.2em;padding-left: 0.2em;position: relative;}#sk-container-id-1 div.sk-item {position: relative;z-index: 1;}#sk-container-id-1 div.sk-parallel {display: flex;align-items: stretch;justify-content: center;background-color: white;position: relative;}#sk-container-id-1 div.sk-item::before, #sk-container-id-1 div.sk-parallel-item::before {content: \"\";position: absolute;border-left: 1px solid gray;box-sizing: border-box;top: 0;bottom: 0;left: 50%;z-index: -1;}#sk-container-id-1 div.sk-parallel-item {display: flex;flex-direction: column;z-index: 1;position: relative;background-color: white;}#sk-container-id-1 div.sk-parallel-item:first-child::after {align-self: flex-end;width: 50%;}#sk-container-id-1 div.sk-parallel-item:last-child::after {align-self: flex-start;width: 50%;}#sk-container-id-1 div.sk-parallel-item:only-child::after {width: 0;}#sk-container-id-1 div.sk-dashed-wrapped {border: 1px dashed gray;margin: 0 0.4em 0.5em 0.4em;box-sizing: border-box;padding-bottom: 0.4em;background-color: white;}#sk-container-id-1 div.sk-label label {font-family: monospace;font-weight: bold;display: inline-block;line-height: 1.2em;}#sk-container-id-1 div.sk-label-container {text-align: center;}#sk-container-id-1 div.sk-container {/* jupyter's `normalize.less` sets `[hidden] { display: none; }` but bootstrap.min.css set `[hidden] { display: none !important; }` so we also need the `!important` here to be able to override the default hidden behavior on the sphinx rendered scikit-learn.org. See: https://github.com/scikit-learn/scikit-learn/issues/21755 */display: inline-block !important;position: relative;}#sk-container-id-1 div.sk-text-repr-fallback {display: none;}</style><div id=\"sk-container-id-1\" class=\"sk-top-container\"><div class=\"sk-text-repr-fallback\"><pre>LogisticRegression(max_iter=100000, random_state=20090630, solver=&#x27;liblinear&#x27;)</pre><b>In a Jupyter environment, please rerun this cell to show the HTML representation or trust the notebook. <br />On GitHub, the HTML representation is unable to render, please try loading this page with nbviewer.org.</b></div><div class=\"sk-container\" hidden><div class=\"sk-item\"><div class=\"sk-estimator sk-toggleable\"><input class=\"sk-toggleable__control sk-hidden--visually\" id=\"sk-estimator-id-1\" type=\"checkbox\" checked><label for=\"sk-estimator-id-1\" class=\"sk-toggleable__label sk-toggleable__label-arrow\">LogisticRegression</label><div class=\"sk-toggleable__content\"><pre>LogisticRegression(max_iter=100000, random_state=20090630, solver=&#x27;liblinear&#x27;)</pre></div></div></div></div></div>"
      ],
      "text/plain": [
       "LogisticRegression(max_iter=100000, random_state=20090630, solver='liblinear')"
      ]
     },
     "execution_count": 18,
     "metadata": {},
     "output_type": "execute_result"
    }
   ],
   "source": [
    "\n",
    "model.fit(X, y)"
   ]
  },
  {
   "cell_type": "code",
   "execution_count": 19,
   "metadata": {},
   "outputs": [],
   "source": [
    "# Realizar predicciones en el conjunto de prueba\n",
    "y_pred = model.predict(X)"
   ]
  },
  {
   "cell_type": "code",
   "execution_count": 20,
   "metadata": {},
   "outputs": [
    {
     "data": {
      "image/png": "[encoded data removed]",
      "text/plain": [
       "<Figure size 300x300 with 1 Axes>"
      ]
     },
     "metadata": {},
     "output_type": "display_data"
    }
   ],
   "source": [
    "# Evaluar el rendimiento con una matriz de confusión\n",
    "conf_matrix = confusion_matrix(y, y_pred)\n",
    "\n",
    "# Visualizar la matriz de confusión\n",
    "plt.figure(figsize=(3, 3))\n",
    "sns.heatmap(conf_matrix, annot=True, fmt='d', cmap='Blues', cbar=False)\n",
    "plt.xlabel('Predicted')\n",
    "plt.ylabel('Actual')\n",
    "plt.title('Matriz de Confusión')\n",
    "plt.show()"
   ]
  },
  {
   "cell_type": "code",
   "execution_count": 21,
   "metadata": {},
   "outputs": [
    {
     "name": "stdout",
     "output_type": "stream",
     "text": [
      "Classification Report:\n",
      "               precision    recall  f1-score   support\n",
      "\n",
      "           0       0.52      0.67      0.59       510\n",
      "           1       0.52      0.36      0.43       490\n",
      "\n",
      "    accuracy                           0.52      1000\n",
      "   macro avg       0.52      0.52      0.51      1000\n",
      "weighted avg       0.52      0.52      0.51      1000\n",
      "\n"
     ]
    }
   ],
   "source": [
    "classification_rep = classification_report(y, y_pred)\n",
    "print('Classification Report:\\n', classification_rep)"
   ]
  },
  {
   "cell_type": "markdown",
   "metadata": {},
   "source": [
    "---------------\n",
    "## Métricas\n",
    "---------------"
   ]
  },
  {
   "cell_type": "markdown",
   "metadata": {},
   "source": [
    "### Matriz de confusión"
   ]
  },
  {
   "cell_type": "markdown",
   "metadata": {},
   "source": [
    "<img src=https://skappal7.files.wordpress.com/2018/08/confusion-matrix.jpg>\n"
   ]
  },
  {
   "cell_type": "markdown",
   "metadata": {},
   "source": [
    "La matriz de confusión es una herramienta utilizada en el campo de la clasificación de problemas de aprendizaje automático y estadística para visualizar el desempeño de un modelo de clasificación. En una matriz de confusión, las filas representan las clases reales y las columnas representan las clases predichas por el modelo. Para una clasificación binaria, la matriz de confusión tiene cuatro términos:\n",
    "    "
   ]
  },
  {
   "cell_type": "markdown",
   "metadata": {},
   "source": [
    "    * Verdaderos positivos (TP): son los casos en los que el modelo predijo correctamente una clase positiva.\n",
    "    * Falsos positivos (FP): son los casos en los que el modelo predijo incorrectamente una clase positiva cuando la verdadera clase era negativa.\n",
    "    * Verdaderos negativos (TN): son los casos en los que el modelo predijo correctamente una clase negativa.\n",
    "    * Falsos negativos (FN): son los casos en los que el modelo predijo incorrectamente una clase negativa cuando la verdadera clase era positiva."
   ]
  },
  {
   "cell_type": "markdown",
   "metadata": {},
   "source": [
    "    EJEMPLO"
   ]
  },
  {
   "cell_type": "code",
   "execution_count": 22,
   "metadata": {},
   "outputs": [
    {
     "name": "stdout",
     "output_type": "stream",
     "text": [
      "confusion matrix: \n",
      " [[343 167]\n",
      " [312 178]]\n"
     ]
    }
   ],
   "source": [
    "# 1- importar la funcion\n",
    "from sklearn.metrics import confusion_matrix\n",
    "# 2 - aplicar la función con las Y observadas y las predicciones\n",
    "conf_matrix = confusion_matrix(y,y_pred)\n",
    "# 3 -mostrar el resultado de la evaluación\n",
    "print('confusion matrix: \\n',conf_matrix)"
   ]
  },
  {
   "cell_type": "markdown",
   "metadata": {},
   "source": [
    "### Accuracy"
   ]
  },
  {
   "cell_type": "markdown",
   "metadata": {},
   "source": [
    "Es la proporción de casos correctamente clasificados sobre el total de casos. "
   ]
  },
  {
   "cell_type": "markdown",
   "metadata": {},
   "source": [
    "    * Mide la capacidad global del modelo para predecir correctamente las clases.\n",
    "    * Proporciona una visión general del rendimiento del modelo, pero puede ser engañosa si hay un desequilibrio de clases en los datos."
   ]
  },
  {
   "cell_type": "markdown",
   "metadata": {},
   "source": [
    "$Accuracy = \\frac{TP + TN}{TP + TN + FP + FN}$ "
   ]
  },
  {
   "cell_type": "markdown",
   "metadata": {},
   "source": [
    "    EJEMPLO"
   ]
  },
  {
   "cell_type": "code",
   "execution_count": 23,
   "metadata": {},
   "outputs": [
    {
     "name": "stdout",
     "output_type": "stream",
     "text": [
      "accuracy : 0.521\n"
     ]
    }
   ],
   "source": [
    "# 1- importar la funcion\n",
    "from sklearn.metrics import accuracy_score\n",
    "# 2 - aplicar la función con las Y observadas y las predicciones\n",
    "accuracy = accuracy_score(y,y_pred)\n",
    "# 3 -mostrar el resultado de la evaluación\n",
    "print('accuracy : {}'.format(accuracy))"
   ]
  },
  {
   "cell_type": "markdown",
   "metadata": {},
   "source": [
    "### Precision"
   ]
  },
  {
   "cell_type": "markdown",
   "metadata": {},
   "source": [
    "Es la proporción de verdaderos positivos sobre todos los casos que se predijeron como positivos . \n",
    "\n",
    "    * Mide la exactitud de las predicciones positivas del modelo.\n",
    "    * Es útil cuando es crucial minimizar los falsos positivos."
   ]
  },
  {
   "cell_type": "markdown",
   "metadata": {},
   "source": [
    "$Precision = \\frac{TP}{TP + FP}$  "
   ]
  },
  {
   "cell_type": "markdown",
   "metadata": {},
   "source": [
    "    EJEMPLO"
   ]
  },
  {
   "cell_type": "code",
   "execution_count": 24,
   "metadata": {},
   "outputs": [
    {
     "name": "stdout",
     "output_type": "stream",
     "text": [
      "precision : 0.5159420289855072\n"
     ]
    }
   ],
   "source": [
    "# 1- importar la funcion\n",
    "from sklearn.metrics import precision_score\n",
    "# 2 - aplicar la función con las Y observadas y las predicciones\n",
    "precision = precision_score(y,y_pred)\n",
    "# 3 -mostrar el resultado de la evaluación\n",
    "print('precision : {}'.format(precision))"
   ]
  },
  {
   "cell_type": "markdown",
   "metadata": {},
   "source": [
    "### Recall "
   ]
  },
  {
   "cell_type": "markdown",
   "metadata": {},
   "source": [
    "Es la proporción de verdaderos positivos sobre todos los casos que son realmente positivos. \n",
    "\n",
    "    * Mide la capacidad del modelo para identificar correctamente todas las instancias relevantes.\n",
    "    * Es útil cuando es importante capturar todos los casos positivos y minimizar los falsos negativos"
   ]
  },
  {
   "cell_type": "markdown",
   "metadata": {},
   "source": [
    "$Recall  = \\frac{TP}{TP + FN}$  "
   ]
  },
  {
   "cell_type": "markdown",
   "metadata": {},
   "source": [
    "    EJEMPLO"
   ]
  },
  {
   "cell_type": "code",
   "execution_count": 27,
   "metadata": {},
   "outputs": [
    {
     "name": "stdout",
     "output_type": "stream",
     "text": [
      "recall : 0.363265306122449\n"
     ]
    }
   ],
   "source": [
    "# 1- importar la funcion\n",
    "from sklearn.metrics import recall_score \n",
    "# 2 - aplicar la función con las Y observadas y las predicciones\n",
    "recall = recall_score(y,y_pred)\n",
    "# 3 -mostrar el resultado de la evaluación\n",
    "print('recall : {}'.format(recall))"
   ]
  },
  {
   "cell_type": "markdown",
   "metadata": {},
   "source": [
    "### F1-Score "
   ]
  },
  {
   "cell_type": "markdown",
   "metadata": {},
   "source": [
    "Es una medida de precisión y recall ponderada. \n",
    "\n",
    "    * Esta métrica combina tanto la precisión como el recall en una sola medida. \n",
    "    * Es útil cuando se necesita un equilibrio entre precision y recall."
   ]
  },
  {
   "cell_type": "markdown",
   "metadata": {},
   "source": [
    "$F1 Score  =2 \\times \\frac{precision \\times recall}{precision + recall}$"
   ]
  },
  {
   "cell_type": "markdown",
   "metadata": {},
   "source": [
    "    EJEMPLO"
   ]
  },
  {
   "cell_type": "code",
   "execution_count": 28,
   "metadata": {},
   "outputs": [
    {
     "name": "stdout",
     "output_type": "stream",
     "text": [
      "f1_score : 0.4263473053892216\n"
     ]
    }
   ],
   "source": [
    "# 1- importar la funcion\n",
    "from sklearn.metrics import f1_score \n",
    "# 2 - aplicar la función con las Y observadas y las predicciones\n",
    "f1 = f1_score(y,y_pred)\n",
    "# 3 -mostrar el resultado de la evaluación\n",
    "print('f1_score : {}'.format(f1))"
   ]
  },
  {
   "cell_type": "markdown",
   "metadata": {},
   "source": [
    "### Área bajo la curva ROC"
   ]
  },
  {
   "cell_type": "markdown",
   "metadata": {},
   "source": [
    "Es el área bajo la curva característica de operación del receptor (ROC). \n",
    "\n",
    "    * Representa la capacidad del modelo para discriminar entre clases positivas y negativas.\n",
    "    * Una puntuación ROC AUC más alta indica un mejor rendimiento del modelo.\n",
    "    * Poporciona una evaluación del rendimiento del modelo en un rango de umbrales de clasificación y es robusto frente a desequilibrios de clases."
   ]
  },
  {
   "cell_type": "markdown",
   "metadata": {},
   "source": [
    "**La curva ROC (Receiver Operating Characteristic) es una representación gráfica del rendimiento de un modelo de clasificación que muestra la relación entre la tasa de verdaderos positivos (TPR) y la tasa de falsos positivos (FPR) en diferentes umbrales de clasificación.**\n",
    "\n",
    "\n",
    "* TPR (Tasa de Verdaderos Positivos) es la proporción de instancias positivas que se clasificaron correctamente como positivas.\n",
    "\n",
    "$TPR = \\frac{TP}{TP+FN}$  \n",
    "\n",
    "* FPR (Tasa de Falsos Positivos) es la proporción de instancias negativas que se clasificaron incorrectamente como positivas.\n",
    "\n",
    "$FPR = \\frac{FP}{FP+TN}$  \n",
    "\n",
    "En la curva ROC, el eje x representa la tasa de falsos positivos (FPR), mientras que el eje y representa la tasa de verdaderos positivos (TPR). Cada punto en la curva ROC corresponde a un umbral de clasificación diferente. Idealmente, un modelo de clasificación perfecto tendría un TPR de 1 y un FPR de 0, lo que llevaría a la esquina superior izquierda del gráfico\n",
    "\n",
    "**La fórmula para el área bajo la curva ROC (ROC AUC) es una medida de rendimiento utilizada en problemas de clasificación. La curva ROC (Receiver Operating Characteristic) representa la tasa de verdaderos positivos (TPR) frente a la tasa de falsos positivos (FPR) para diferentes umbrales de clasificación**\n",
    "\n",
    "$ROC AUC = \\int_{0}^{1} TPR(FPR) \\,dFPR$"
   ]
  },
  {
   "cell_type": "markdown",
   "metadata": {},
   "source": [
    "    EJEMPLO"
   ]
  },
  {
   "cell_type": "code",
   "execution_count": 29,
   "metadata": {},
   "outputs": [
    {
     "name": "stdout",
     "output_type": "stream",
     "text": [
      "roc_auc : 0.5216206482593038\n"
     ]
    }
   ],
   "source": [
    "# 1- importar la funcion\n",
    "from sklearn.metrics import roc_auc_score \n",
    "# 2 - aplicar la función con las Y observadas y las predicciones\n",
    "roc_auc = roc_auc_score(y,model.predict_proba(X)[:,1], multi_class='ovr')\n",
    "# 3 -mostrar el resultado de la evaluación\n",
    "print('roc_auc : {}'.format(roc_auc))"
   ]
  },
  {
   "cell_type": "markdown",
   "metadata": {},
   "source": [
    "---------------\n",
    "## Métodos de Clasificación\n",
    "---------------"
   ]
  },
  {
   "cell_type": "code",
   "execution_count": 30,
   "metadata": {},
   "outputs": [],
   "source": [
    "from sklearn.datasets import load_breast_cancer"
   ]
  },
  {
   "cell_type": "code",
   "execution_count": 31,
   "metadata": {},
   "outputs": [],
   "source": [
    "# Cargar el conjunto de datos diabetes\n",
    "cancer = load_breast_cancer()\n",
    "X, y = cancer.data, cancer.target"
   ]
  },
  {
   "cell_type": "code",
   "execution_count": 32,
   "metadata": {},
   "outputs": [],
   "source": [
    "from sklearn.model_selection import train_test_split"
   ]
  },
  {
   "cell_type": "code",
   "execution_count": 33,
   "metadata": {},
   "outputs": [],
   "source": [
    "# Dividir los datos en conjuntos de entrenamiento y prueba\n",
    "X_train, X_test, y_train, y_test = train_test_split(X, y, test_size=0.2, random_state=42)"
   ]
  },
  {
   "cell_type": "markdown",
   "metadata": {},
   "source": [
    "### Árbol de Decisión"
   ]
  },
  {
   "cell_type": "markdown",
   "metadata": {},
   "source": [
    "* Los árboles de decisión para clasificación son modelos interpretables porque las decisiones tomadas por el modelo tienen una estructura lógica y cada nodo utiliza una condición basada en una sola característica que es fácil de entender. \n",
    "* Sin embargo, pueden ser propensos al sobreajuste, especialmente si se les permite crecer demasiado complejos sin restricciones."
   ]
  },
  {
   "cell_type": "markdown",
   "metadata": {},
   "source": [
    "    * Inicio del Árbol: Se comienza con todos los datos en un único nodo, conocido como el nodo raíz.\n",
    "\n",
    "    * División del Nodo (Splitting): Se selecciona la mejor variable y el punto de corte (split point) dentro de esa variable para dividir los datos en dos grupos. El objetivo es reducir la variabilidad de los valores de la variable objetivo dentro de cada grupo. Para la regresión, la variabilidad suele medirse con el MSE (Mean Squared Error) o la varianza; el objetivo es minimizar esta métrica al realizar cada división.\n",
    "\n",
    "    * Creación de Nodos Hijos: Una vez que se ha hecho una división, se crean dos nuevos nodos, cada uno con un subconjunto de los datos basado en la división. Este proceso se repite de manera recursiva.\n",
    "\n",
    "    * Condición de Parada: El árbol sigue creciendo hasta que se alcanza una condición de parada, que puede ser un número máximo de niveles, un número mínimo de muestras en un nodo, o una disminución mínima en la métrica de variabilidad.\n",
    "\n",
    "    * Predicción: Una vez que se ha construido el árbol, se puede usar para hacer predicciones. Para predecir el valor de una nueva muestra, se sigue el árbol desde el nodo raíz, pasando por las divisiones según las características de la muestra hasta llegar a un nodo hoja. El valor predicho es el valor medio de la variable objetivo de las muestras de entrenamiento en ese nodo hoja."
   ]
  },
  {
   "cell_type": "code",
   "execution_count": 34,
   "metadata": {},
   "outputs": [],
   "source": [
    "from sklearn.tree import DecisionTreeClassifier"
   ]
  },
  {
   "cell_type": "code",
   "execution_count": 35,
   "metadata": {},
   "outputs": [],
   "source": [
    "# 3. Árbol de Decisión\n",
    "tree_model = DecisionTreeClassifier(\n",
    "    max_depth=3, # profundidad máxima del árbol, mayor profundidad puede capturar relaciones más complejas pero también puede llevar al sobreajuste\n",
    "    min_samples_split=2, # Especifica el número mínimo de muestras requeridas para dividir un nodo interno. Si el número de muestras en un nodo es menor que min_samples_split el nodo no se dividirá y se considerará una hoja\n",
    "    min_samples_leaf=1 # Especifica el número mínimo de muestras requeridas para ser una hoja. Si la división de un nodo resulta en una hoja con un número de muestras menor que min_samples_leaf esa división no se realizará\n",
    "    )"
   ]
  },
  {
   "cell_type": "code",
   "execution_count": 36,
   "metadata": {},
   "outputs": [],
   "source": [
    "tree_model.fit(X_train, y_train)\n",
    "y_pred = tree_model.predict(X_test)"
   ]
  },
  {
   "cell_type": "code",
   "execution_count": 37,
   "metadata": {},
   "outputs": [
    {
     "name": "stdout",
     "output_type": "stream",
     "text": [
      "\n",
      "Métricas de Evaluación:\n",
      "Accuracy: 0.9473684210526315\n",
      "Precision: 0.9474739303990012\n",
      "Recall: 0.9473684210526315\n",
      "F1 Score: 0.9583333333333334\n",
      "ROC AUC Score: 0.9574189321978381\n"
     ]
    }
   ],
   "source": [
    "# Calculamos las métricas de evaluación\n",
    "accuracy = accuracy_score(y_test, y_pred)\n",
    "precision = precision_score(y_test, y_pred, average='weighted')\n",
    "recall = recall_score(y_test, y_pred, average='weighted')\n",
    "f1 = f1_score(y_test, y_pred)\n",
    "roc_auc = roc_auc_score(y_test, tree_model.predict_proba(X_test)[:,1], multi_class='ovr')\n",
    "\n",
    "print(\"\\nMétricas de Evaluación:\")\n",
    "print(f\"Accuracy: {accuracy}\")\n",
    "print(f\"Precision: {precision}\")\n",
    "print(f\"Recall: {recall}\")\n",
    "print(f\"F1 Score: {f1}\")\n",
    "print(f\"ROC AUC Score: {roc_auc}\")"
   ]
  },
  {
   "cell_type": "markdown",
   "metadata": {},
   "source": [
    "#### grafico del arbol"
   ]
  },
  {
   "cell_type": "code",
   "execution_count": 38,
   "metadata": {},
   "outputs": [],
   "source": [
    "from sklearn.tree import plot_tree"
   ]
  },
  {
   "cell_type": "code",
   "execution_count": 40,
   "metadata": {},
   "outputs": [
    {
     "data": {
      "image/png": "[encoded data removed]",
      "text/plain": [
       "<Figure size 1800x800 with 1 Axes>"
      ]
     },
     "metadata": {},
     "output_type": "display_data"
    }
   ],
   "source": [
    "# Graficar el árbol\n",
    "plt.figure(figsize=(18, 8))\n",
    "plot_tree(tree_model, feature_names=cancer.feature_names, filled=True)\n",
    "plt.show()"
   ]
  },
  {
   "cell_type": "markdown",
   "metadata": {},
   "source": [
    "### Random Forest"
   ]
  },
  {
   "cell_type": "markdown",
   "metadata": {},
   "source": [
    "    * El Random Forest es un algoritmo robusto y fácil de usar que proporciona buenos resultados en una variedad de conjuntos de datos. Es resistente al sobreajuste y no requiere mucho ajuste de hiperparámetros. \n",
    "    * Además, es eficiente en términos de tiempo de entrenamiento y es fácilmente paralelizable, lo que lo hace adecuado para conjuntos de datos grandes. \n",
    "    * Debido a sus propiedades, el Random Forest es uno de los algoritmos de aprendizaje automático más populares y ampliamente utilizados."
   ]
  },
  {
   "cell_type": "code",
   "execution_count": 41,
   "metadata": {},
   "outputs": [],
   "source": [
    "from sklearn.ensemble import RandomForestClassifier"
   ]
  },
  {
   "cell_type": "code",
   "execution_count": 42,
   "metadata": {},
   "outputs": [],
   "source": [
    "# 4. Random Forest\n",
    "forest_model = RandomForestClassifier(\n",
    "    n_estimators=100, # Especifica el número de árboles en el bosque.\n",
    "    max_depth=5, # profundidad máxima de cada árbol en el bosque.\n",
    "    min_samples_split=2,  # número mínimo de muestras requeridas para dividir un nodo interno en cada árbol\n",
    "    min_samples_leaf=1 # número mínimo de muestras requeridas para ser una hoja en cada árbol\n",
    ")"
   ]
  },
  {
   "cell_type": "code",
   "execution_count": 43,
   "metadata": {},
   "outputs": [],
   "source": [
    "forest_model.fit(X_train, y_train)\n",
    "y_pred = forest_model.predict(X_test)"
   ]
  },
  {
   "cell_type": "code",
   "execution_count": 44,
   "metadata": {},
   "outputs": [
    {
     "name": "stdout",
     "output_type": "stream",
     "text": [
      "\n",
      "Métricas de Evaluación:\n",
      "Accuracy: 0.9649122807017544\n",
      "Precision: 0.9652053622194477\n",
      "Recall: 0.9649122807017544\n",
      "F1 Score: 0.9722222222222222\n",
      "ROC AUC Score: 0.9963969865705863\n"
     ]
    }
   ],
   "source": [
    "# Calculamos las métricas de evaluación\n",
    "accuracy = accuracy_score(y_test, y_pred)\n",
    "precision = precision_score(y_test, y_pred, average='weighted')\n",
    "recall = recall_score(y_test, y_pred, average='weighted')\n",
    "f1 = f1_score(y_test, y_pred)\n",
    "roc_auc = roc_auc_score(y_test, forest_model.predict_proba(X_test)[:,1], multi_class='ovr')\n",
    "\n",
    "print(\"\\nMétricas de Evaluación:\")\n",
    "print(f\"Accuracy: {accuracy}\")\n",
    "print(f\"Precision: {precision}\")\n",
    "print(f\"Recall: {recall}\")\n",
    "print(f\"F1 Score: {f1}\")\n",
    "print(f\"ROC AUC Score: {roc_auc}\")"
   ]
  },
  {
   "cell_type": "markdown",
   "metadata": {},
   "source": [
    "### Support Vector Machine (SVM)"
   ]
  },
  {
   "cell_type": "markdown",
   "metadata": {},
   "source": [
    "    * SVM es efectivo en espacios de características de alta dimensión y es capaz de manejar datos no lineales utilizando trucos del kernel, que mapean los datos a un espacio de características de mayor dimensión donde las clases son linealmente separables. \n",
    "    * SVM es un algoritmo poderoso y versátil que se utiliza en una variedad de aplicaciones, incluidas la clasificación de texto, la detección de imágenes, la clasificación de biosecuencias y más.\n",
    "    * La tarea de SVM es resolver un problema de optimización convexa. Para la clasificación, esto implica encontrar los pesos y sesgos del hiperplano que maximizan el margen mientras minimizan la clasificación errónea. Para la regresión, se busca encontrar la función que minimiza el error entre las predicciones y los valores reales, manteniendo los errores dentro de un margen especificado.\n",
    "    * Una vez que se encuentra el hiperplano óptimo, SVM utiliza una función de decisión para clasificar nuevos puntos de datos o hacer predicciones en el caso de la regresión. Para la clasificación, la función de decisión asigna un nuevo punto a una de las dos clases en función de su posición con respecto al hiperplano. Para la regresión, la función de decisión estima el valor de la variable objetivo para un nuevo punto de datos."
   ]
  },
  {
   "cell_type": "code",
   "execution_count": 46,
   "metadata": {},
   "outputs": [],
   "source": [
    "from sklearn.svm import SVC"
   ]
  },
  {
   "cell_type": "code",
   "execution_count": 47,
   "metadata": {},
   "outputs": [],
   "source": [
    "# 5. Support Vector Machine (SVM)\n",
    "svm_model = SVC(\n",
    "    # El kernel determina cómo se mapean los datos de entrada en un espacio de mayor dimensión donde sea más fácil realizar la separación\n",
    "    kernel='rbf', # Los kernels comunes son \"linear\" (lineal), \"poly\" (polinómico), \"rbf\" (función de base radial) y \"sigmoid\" (sigmoidal)\n",
    "    # Parámetro de regularización que controla la penalización por errores de entrenamiento\n",
    "    C=1.0, # Un valor más bajo de C permitirá un margen más amplio y permitirá que se clasifiquen más puntos correctamente, pero puede llevar al sobreajuste\n",
    "    # Coeficiente de kernel para los kernels \"rbf\", \"poly\" y \"sigmoid\"\n",
    "    gamma = 'scale' # lor más alto de gamma significa que los puntos de datos más cercanos tienen más peso en la predicción, lo que puede conducir a un modelo más ajustado a los datos de entrenamiento.\n",
    ")"
   ]
  },
  {
   "cell_type": "code",
   "execution_count": 48,
   "metadata": {},
   "outputs": [],
   "source": [
    "\n",
    "svm_model.fit(X_train, y_train)\n",
    "y_pred = svm_model.predict(X_test)"
   ]
  },
  {
   "cell_type": "code",
   "execution_count": 49,
   "metadata": {},
   "outputs": [
    {
     "name": "stdout",
     "output_type": "stream",
     "text": [
      "\n",
      "Métricas de Evaluación:\n",
      "Accuracy: 0.9473684210526315\n",
      "Precision: 0.9514695830485304\n",
      "Recall: 0.9473684210526315\n",
      "F1 Score: 0.9594594594594594\n",
      "ROC AUC Score: 0.9302325581395349\n"
     ]
    }
   ],
   "source": [
    "# Calculamos las métricas de evaluación\n",
    "accuracy = accuracy_score(y_test, y_pred)\n",
    "precision = precision_score(y_test, y_pred, average='weighted')\n",
    "recall = recall_score(y_test, y_pred, average='weighted')\n",
    "f1 = f1_score(y_test, y_pred)\n",
    "roc_auc = roc_auc_score(y_test, svm_model.predict(X_test), multi_class='ovr')\n",
    "\n",
    "print(\"\\nMétricas de Evaluación:\")\n",
    "print(f\"Accuracy: {accuracy}\")\n",
    "print(f\"Precision: {precision}\")\n",
    "print(f\"Recall: {recall}\")\n",
    "print(f\"F1 Score: {f1}\")\n",
    "print(f\"ROC AUC Score: {roc_auc}\")"
   ]
  },
  {
   "cell_type": "markdown",
   "metadata": {},
   "source": [
    "### K Nearest Neighbors (KNN)"
   ]
  },
  {
   "cell_type": "markdown",
   "metadata": {},
   "source": [
    "    * El algoritmo encuentra los k puntos de datos más cercanos en el conjunto de entrenamiento al punto de consulta. La cercanía se mide generalmente utilizando una métrica de distancia, como la distancia euclidiana o la distancia de Manhattan\n",
    "    * KNN es un algoritmo simple y fácil de entender, pero puede ser computacionalmente costoso en conjuntos de datos grandes, ya que requiere calcular la distancia entre el punto de consulta y todos los puntos en el conjunto de entrenamiento.\n",
    "    "
   ]
  },
  {
   "cell_type": "code",
   "execution_count": 51,
   "metadata": {},
   "outputs": [],
   "source": [
    "from sklearn.neighbors import KNeighborsClassifier"
   ]
  },
  {
   "cell_type": "code",
   "execution_count": 52,
   "metadata": {},
   "outputs": [],
   "source": [
    "# 6. K Nearest Neighbors (KNN)\n",
    "knn_model = KNeighborsClassifier(\n",
    "    # Especifica el número k de vecinos que se utilizarán para hacer predicciones\n",
    "    n_neighbors=5, # Un valor más alto de n_neighbors resultará en predicciones más suaves y menos sensibles al ruido, pero también puede reducir la capacidad del modelo para capturar patrones complejos en los datos\n",
    "    #  Determina cómo se ponderan las contribuciones de los vecinos\n",
    "    weights='distance',  # Puede ser \"uniforme\", donde todos los vecinos tienen el mismo peso en la predicción, o \"distance\", donde el peso de cada vecino es inversamente proporcional a su distancia desde el punto de consulta\n",
    "    # Especifica el algoritmo utilizado para calcular los vecinos más cercanos.\n",
    "    algorithm='auto' # Puede ser \"auto\", \"ball_tree\", \"kd_tree\" o \"brute\"\n",
    ")"
   ]
  },
  {
   "cell_type": "code",
   "execution_count": 53,
   "metadata": {},
   "outputs": [],
   "source": [
    "knn_model.fit(X_train, y_train)\n",
    "y_pred = knn_model.predict(X_test)"
   ]
  },
  {
   "cell_type": "code",
   "execution_count": 54,
   "metadata": {},
   "outputs": [
    {
     "name": "stdout",
     "output_type": "stream",
     "text": [
      "\n",
      "Métricas de Evaluación:\n",
      "Accuracy: 0.956140350877193\n",
      "Precision: 0.9590258541089566\n",
      "Recall: 0.956140350877193\n",
      "F1 Score: 0.9659863945578232\n",
      "ROC AUC Score: 0.9937766131673764\n"
     ]
    }
   ],
   "source": [
    "# Calculamos las métricas de evaluación\n",
    "accuracy = accuracy_score(y_test, y_pred)\n",
    "precision = precision_score(y_test, y_pred, average='weighted')\n",
    "recall = recall_score(y_test, y_pred, average='weighted')\n",
    "f1 = f1_score(y_test, y_pred)\n",
    "roc_auc = roc_auc_score(y_test, knn_model.predict_proba(X_test)[:,1], multi_class='ovr')\n",
    "\n",
    "print(\"\\nMétricas de Evaluación:\")\n",
    "print(f\"Accuracy: {accuracy}\")\n",
    "print(f\"Precision: {precision}\")\n",
    "print(f\"Recall: {recall}\")\n",
    "print(f\"F1 Score: {f1}\")\n",
    "print(f\"ROC AUC Score: {roc_auc}\")"
   ]
  },
  {
   "cell_type": "markdown",
   "metadata": {},
   "source": [
    "---------------\n",
    "## Bibligrafía\n",
    "---------------"
   ]
  },
  {
   "cell_type": "markdown",
   "metadata": {},
   "source": [
    "* https://scikit-learn.org/stable/\n",
    "* https://scikit-learn.org/stable/supervised_learning.html#supervised-learning\n"
   ]
  }
 ],
 "metadata": {
  "kernelspec": {
   "display_name": "Python 3",
   "language": "python",
   "name": "python3"
  },
  "language_info": {
   "codemirror_mode": {
    "name": "ipython",
    "version": 3
   },
   "file_extension": ".py",
   "mimetype": "text/x-python",
   "name": "python",
   "nbconvert_exporter": "python",
   "pygments_lexer": "ipython3",
   "version": "3.11.8"
  }
 },
 "nbformat": 4,
 "nbformat_minor": 2
}
